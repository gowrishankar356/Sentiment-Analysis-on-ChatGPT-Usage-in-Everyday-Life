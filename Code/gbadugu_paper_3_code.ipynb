{
 "cells": [
  {
   "cell_type": "markdown",
   "id": "8c27f98e",
   "metadata": {},
   "source": [
    "# Topic Modelling and Sentiment analysis on ChatGPT"
   ]
  },
  {
   "cell_type": "code",
   "execution_count": 1,
   "id": "be270d08",
   "metadata": {},
   "outputs": [],
   "source": [
    "#importing required libraries\n",
    "import praw\n",
    "import pandas as pd\n",
    "import csv as csv\n",
    "import matplotlib.pyplot as plt\n",
    "import numpy as np\n",
    "import time"
   ]
  },
  {
   "cell_type": "code",
   "execution_count": 24,
   "id": "6a545063",
   "metadata": {},
   "outputs": [],
   "source": [
    "#connecting to our reddit application\n",
    "reddit = praw.Reddit(client_id='5O2pjVeLTjdPuzmmwFaHpA', \\\n",
    "                     client_secret='Dx0o8h9lNreiezhBC5EKOjs9e-Yhcg', \\\n",
    "                     user_agent='MacOS:com.example.myapp:v1.0.0 (by /u/GowriShankar356)', \\\n",
    "                     username='GowriShankar356', \\\n",
    "                     password='Naruto@2398')"
   ]
  },
  {
   "cell_type": "markdown",
   "id": "fd5092a4",
   "metadata": {},
   "source": [
    "# Data Collection using Reddit"
   ]
  },
  {
   "cell_type": "markdown",
   "id": "b2925d8b",
   "metadata": {},
   "source": [
    "## Data Collection using Subreddit r/ChatGPT"
   ]
  },
  {
   "cell_type": "code",
   "execution_count": 25,
   "id": "cfafe77c",
   "metadata": {},
   "outputs": [],
   "source": [
    "subreddit = reddit.subreddit('ChatGPT')\n",
    "submissions = subreddit.search('ChatGPT')\n",
    "submissions = subreddit.hot(limit=1000)"
   ]
  },
  {
   "cell_type": "code",
   "execution_count": 26,
   "id": "132ff54a",
   "metadata": {},
   "outputs": [],
   "source": [
    "#python dictionary to store the collected data\n",
    "post_dict = {\"ID\" : [], \n",
    "    \"Title\": [], \n",
    "             \"Score\": [], \"Up vote Ratio\" : [],\n",
    "              \"Total Comments\": [], \"Post URL\": [], \"Date\": []\n",
    "              }"
   ]
  },
  {
   "cell_type": "code",
   "execution_count": 27,
   "id": "b19c2d21",
   "metadata": {},
   "outputs": [],
   "source": [
    "l_count_1 = 0\n",
    "for submission in submissions:\n",
    "    l_count_1 = l_count_1 + 1\n",
    "    i = submission.title\n",
    "    post_dict[\"ID\"].append(submission.id)\n",
    "    post_dict[\"Title\"].append(submission.title)\n",
    "    post_dict[\"Score\"].append(submission.score)\n",
    "    post_dict[\"Up vote Ratio\"].append(submission.upvote_ratio)\n",
    "    post_dict[\"Total Comments\"].append(submission.num_comments)    \n",
    "    post_dict[\"Post URL\"].append(submission.url)\n",
    "    post_dict[\"Date\"].append( time.strftime('%Y-%m-%d %H:%M:%S', time.localtime(submission.created_utc)))\n"
   ]
  },
  {
   "cell_type": "code",
   "execution_count": 28,
   "id": "190b7876",
   "metadata": {},
   "outputs": [
    {
     "name": "stdout",
     "output_type": "stream",
     "text": [
      "805\n"
     ]
    }
   ],
   "source": [
    "print(l_count_1)"
   ]
  },
  {
   "cell_type": "markdown",
   "id": "e6d86835",
   "metadata": {},
   "source": [
    "## Data Collection using Subreddit r/ChatGPTPro\n"
   ]
  },
  {
   "cell_type": "code",
   "execution_count": 29,
   "id": "b729cc1c",
   "metadata": {},
   "outputs": [],
   "source": [
    "subreddit_1 = reddit.subreddit('ChatGPTPro')\n",
    "submissions_1 = subreddit.search('ChatGPTPro')\n",
    "submissions_1 = subreddit.hot(limit=1000)"
   ]
  },
  {
   "cell_type": "code",
   "execution_count": 30,
   "id": "ca42be7c",
   "metadata": {},
   "outputs": [],
   "source": [
    "l_count_2 = 0\n",
    "for submission in submissions_1:\n",
    "    l_count_2 = l_count_2 + 1\n",
    "    i = submission.title\n",
    "    post_dict[\"ID\"].append(submission.id)\n",
    "    post_dict[\"Title\"].append(submission.title)\n",
    "    post_dict[\"Score\"].append(submission.score)\n",
    "    post_dict[\"Up vote Ratio\"].append(submission.upvote_ratio)\n",
    "    post_dict[\"Total Comments\"].append(submission.num_comments)    \n",
    "    post_dict[\"Post URL\"].append(submission.url)\n",
    "    post_dict[\"Date\"].append( time.strftime('%Y-%m-%d %H:%M:%S', time.localtime(submission.created_utc)))\n"
   ]
  },
  {
   "cell_type": "code",
   "execution_count": 31,
   "id": "4f578245",
   "metadata": {},
   "outputs": [
    {
     "name": "stdout",
     "output_type": "stream",
     "text": [
      "805\n"
     ]
    }
   ],
   "source": [
    "print(l_count_2)"
   ]
  },
  {
   "cell_type": "markdown",
   "id": "772137ab",
   "metadata": {},
   "source": [
    "## Data Collection using Subreddit r/ChatGPTGoneWild"
   ]
  },
  {
   "cell_type": "code",
   "execution_count": 32,
   "id": "3a53c6a4",
   "metadata": {},
   "outputs": [],
   "source": [
    "subreddit_2 = reddit.subreddit('ChatGPTGoneWild')\n",
    "submissions_2 = subreddit_2.search('ChatGPTGoneWild')\n",
    "submissions_2 = subreddit_2.hot(limit=1000)"
   ]
  },
  {
   "cell_type": "code",
   "execution_count": 33,
   "id": "0fe13417",
   "metadata": {},
   "outputs": [],
   "source": [
    "l_count_3 = 0\n",
    "for submission in submissions_2:\n",
    "        l_count_3 = l_count_3 + 1\n",
    "        post_dict[\"ID\"].append(submission.id)\n",
    "        post_dict[\"Title\"].append(submission.title)\n",
    "        post_dict[\"Score\"].append(submission.score)\n",
    "        post_dict[\"Up vote Ratio\"].append(submission.upvote_ratio)\n",
    "        post_dict[\"Total Comments\"].append(submission.num_comments)    \n",
    "        post_dict[\"Post URL\"].append(submission.url)\n",
    "        post_dict[\"Date\"].append( time.strftime('%Y-%m-%d %H:%M:%S', time.localtime(submission.created_utc)))\n",
    "        "
   ]
  },
  {
   "cell_type": "code",
   "execution_count": 34,
   "id": "ce9e13e4",
   "metadata": {},
   "outputs": [
    {
     "name": "stdout",
     "output_type": "stream",
     "text": [
      "984\n"
     ]
    }
   ],
   "source": [
    "print(l_count_3)"
   ]
  },
  {
   "cell_type": "markdown",
   "id": "3495a944",
   "metadata": {},
   "source": [
    "## Data Collection using Subreddit r/ChatGPTCoding"
   ]
  },
  {
   "cell_type": "code",
   "execution_count": 35,
   "id": "a0ae982a",
   "metadata": {},
   "outputs": [],
   "source": [
    "subreddit_3 = reddit.subreddit('ChatGPTCoding')\n",
    "submissions_3 = subreddit_3.search('ChatGPTCoding')\n",
    "submissions_3 = subreddit_3.hot(limit=1000)"
   ]
  },
  {
   "cell_type": "code",
   "execution_count": 36,
   "id": "ed9e6bd6",
   "metadata": {},
   "outputs": [],
   "source": [
    "l_count_4 = 0\n",
    "for submission in submissions_3:\n",
    "        l_count_4 = l_count_4 + 1\n",
    "        post_dict[\"ID\"].append(submission.id)\n",
    "        post_dict[\"Title\"].append(submission.title)\n",
    "        post_dict[\"Score\"].append(submission.score)\n",
    "        post_dict[\"Up vote Ratio\"].append(submission.upvote_ratio)\n",
    "        post_dict[\"Total Comments\"].append(submission.num_comments)    \n",
    "        post_dict[\"Post URL\"].append(submission.url)\n",
    "        post_dict[\"Date\"].append( time.strftime('%Y-%m-%d %H:%M:%S', time.localtime(submission.created_utc)))\n",
    "        "
   ]
  },
  {
   "cell_type": "code",
   "execution_count": 37,
   "id": "8f7ebf00",
   "metadata": {},
   "outputs": [
    {
     "name": "stdout",
     "output_type": "stream",
     "text": [
      "984\n"
     ]
    }
   ],
   "source": [
    "print(l_count_3)"
   ]
  },
  {
   "cell_type": "markdown",
   "id": "48560783",
   "metadata": {},
   "source": [
    "## Data Collection using Subreddit r/ChatGPT3"
   ]
  },
  {
   "cell_type": "code",
   "execution_count": 38,
   "id": "332ffb1d",
   "metadata": {},
   "outputs": [],
   "source": [
    "subreddit_4 = reddit.subreddit('ChatGPT_Prompts')\n",
    "submissions_4 = subreddit_4.search('ChatGPT_Prompts')\n",
    "submissions_4 = subreddit_4.hot(limit=1000)"
   ]
  },
  {
   "cell_type": "code",
   "execution_count": 39,
   "id": "5c43c5a7",
   "metadata": {},
   "outputs": [],
   "source": [
    "l_count_5 = 0\n",
    "for submission in submissions_4:\n",
    "        l_count_5 = l_count_5 + 1\n",
    "        post_dict[\"ID\"].append(submission.id)\n",
    "        post_dict[\"Title\"].append(submission.title)\n",
    "        post_dict[\"Score\"].append(submission.score)\n",
    "        post_dict[\"Up vote Ratio\"].append(submission.upvote_ratio)\n",
    "        post_dict[\"Total Comments\"].append(submission.num_comments)    \n",
    "        post_dict[\"Post URL\"].append(submission.url)\n",
    "        post_dict[\"Date\"].append( time.strftime('%Y-%m-%d %H:%M:%S', time.localtime(submission.created_utc)))\n",
    "        "
   ]
  },
  {
   "cell_type": "code",
   "execution_count": 40,
   "id": "01ad2b43",
   "metadata": {},
   "outputs": [
    {
     "name": "stdout",
     "output_type": "stream",
     "text": [
      "212\n"
     ]
    }
   ],
   "source": [
    "print(l_count_5)"
   ]
  },
  {
   "cell_type": "code",
   "execution_count": 41,
   "id": "0ff1735f",
   "metadata": {},
   "outputs": [
    {
     "name": "stdout",
     "output_type": "stream",
     "text": [
      "Total Number of submissions Collected :3501\n"
     ]
    }
   ],
   "source": [
    "#Total Number of submissions collected\n",
    "print(\"Total Number of submissions Collected :\"+str(l_count_1 + l_count_2 + l_count_3 + l_count_4 + l_count_5))"
   ]
  },
  {
   "cell_type": "code",
   "execution_count": 42,
   "id": "f70a5e61",
   "metadata": {
    "scrolled": true
   },
   "outputs": [
    {
     "data": {
      "text/html": [
       "<div>\n",
       "<style scoped>\n",
       "    .dataframe tbody tr th:only-of-type {\n",
       "        vertical-align: middle;\n",
       "    }\n",
       "\n",
       "    .dataframe tbody tr th {\n",
       "        vertical-align: top;\n",
       "    }\n",
       "\n",
       "    .dataframe thead th {\n",
       "        text-align: right;\n",
       "    }\n",
       "</style>\n",
       "<table border=\"1\" class=\"dataframe\">\n",
       "  <thead>\n",
       "    <tr style=\"text-align: right;\">\n",
       "      <th></th>\n",
       "      <th>ID</th>\n",
       "      <th>Title</th>\n",
       "      <th>Score</th>\n",
       "      <th>Up vote Ratio</th>\n",
       "      <th>Total Comments</th>\n",
       "      <th>Post URL</th>\n",
       "      <th>Date</th>\n",
       "    </tr>\n",
       "  </thead>\n",
       "  <tbody>\n",
       "    <tr>\n",
       "      <th>0</th>\n",
       "      <td>132t1ps</td>\n",
       "      <td>Do you believe ChatGPT is todays equivalent of...</td>\n",
       "      <td>1194</td>\n",
       "      <td>0.88</td>\n",
       "      <td>461</td>\n",
       "      <td>https://www.reddit.com/r/ChatGPT/comments/132t...</td>\n",
       "      <td>2023-04-29 09:33:07</td>\n",
       "    </tr>\n",
       "    <tr>\n",
       "      <th>1</th>\n",
       "      <td>132ta6q</td>\n",
       "      <td>I have integrated the ability for villagers on...</td>\n",
       "      <td>723</td>\n",
       "      <td>0.96</td>\n",
       "      <td>58</td>\n",
       "      <td>https://v.redd.it/ipsljk4outwa1</td>\n",
       "      <td>2023-04-29 09:43:58</td>\n",
       "    </tr>\n",
       "    <tr>\n",
       "      <th>2</th>\n",
       "      <td>132l861</td>\n",
       "      <td>I would have done much better in Highschool if...</td>\n",
       "      <td>2101</td>\n",
       "      <td>0.92</td>\n",
       "      <td>251</td>\n",
       "      <td>https://www.reddit.com/r/ChatGPT/comments/132l...</td>\n",
       "      <td>2023-04-29 02:26:50</td>\n",
       "    </tr>\n",
       "    <tr>\n",
       "      <th>3</th>\n",
       "      <td>132o7xp</td>\n",
       "      <td>The Book of Genesis in the style of Donald Trump…</td>\n",
       "      <td>1105</td>\n",
       "      <td>0.92</td>\n",
       "      <td>97</td>\n",
       "      <td>https://v.redd.it/clgnso6mjswa1</td>\n",
       "      <td>2023-04-29 05:20:30</td>\n",
       "    </tr>\n",
       "    <tr>\n",
       "      <th>4</th>\n",
       "      <td>132vg43</td>\n",
       "      <td>This is surreal: ElevenLabs AI can now clone t...</td>\n",
       "      <td>344</td>\n",
       "      <td>0.98</td>\n",
       "      <td>49</td>\n",
       "      <td>https://v.redd.it/nbxlmfqy4uwa1</td>\n",
       "      <td>2023-04-29 10:40:14</td>\n",
       "    </tr>\n",
       "    <tr>\n",
       "      <th>...</th>\n",
       "      <td>...</td>\n",
       "      <td>...</td>\n",
       "      <td>...</td>\n",
       "      <td>...</td>\n",
       "      <td>...</td>\n",
       "      <td>...</td>\n",
       "      <td>...</td>\n",
       "    </tr>\n",
       "    <tr>\n",
       "      <th>3496</th>\n",
       "      <td>zqtbk4</td>\n",
       "      <td>[Credit: Voyager] Element Mixing (alchemy) game</td>\n",
       "      <td>2</td>\n",
       "      <td>1.00</td>\n",
       "      <td>0</td>\n",
       "      <td>https://www.reddit.com/r/ChatGPT_Prompts/comme...</td>\n",
       "      <td>2022-12-20 11:52:15</td>\n",
       "    </tr>\n",
       "    <tr>\n",
       "      <th>3497</th>\n",
       "      <td>zqsdmw</td>\n",
       "      <td>r/ChatGPT_Prompts Lounge</td>\n",
       "      <td>2</td>\n",
       "      <td>1.00</td>\n",
       "      <td>1</td>\n",
       "      <td>https://www.reddit.com/r/ChatGPT_Prompts/comme...</td>\n",
       "      <td>2022-12-20 11:13:03</td>\n",
       "    </tr>\n",
       "    <tr>\n",
       "      <th>3498</th>\n",
       "      <td>zqwa86</td>\n",
       "      <td>[Credit: Voyager] Hacking game</td>\n",
       "      <td>1</td>\n",
       "      <td>1.00</td>\n",
       "      <td>0</td>\n",
       "      <td>https://www.reddit.com/r/ChatGPT_Prompts/comme...</td>\n",
       "      <td>2022-12-20 13:50:40</td>\n",
       "    </tr>\n",
       "    <tr>\n",
       "      <th>3499</th>\n",
       "      <td>zqw96w</td>\n",
       "      <td>[Credit: Voyager] Example of giving very speci...</td>\n",
       "      <td>1</td>\n",
       "      <td>1.00</td>\n",
       "      <td>0</td>\n",
       "      <td>https://www.reddit.com/r/ChatGPT_Prompts/comme...</td>\n",
       "      <td>2022-12-20 13:49:34</td>\n",
       "    </tr>\n",
       "    <tr>\n",
       "      <th>3500</th>\n",
       "      <td>zqtga3</td>\n",
       "      <td>[Credit: Voyager] SciFi adventure game</td>\n",
       "      <td>1</td>\n",
       "      <td>1.00</td>\n",
       "      <td>0</td>\n",
       "      <td>https://www.reddit.com/r/ChatGPT_Prompts/comme...</td>\n",
       "      <td>2022-12-20 11:57:45</td>\n",
       "    </tr>\n",
       "  </tbody>\n",
       "</table>\n",
       "<p>3501 rows × 7 columns</p>\n",
       "</div>"
      ],
      "text/plain": [
       "           ID                                              Title  Score  \\\n",
       "0     132t1ps  Do you believe ChatGPT is todays equivalent of...   1194   \n",
       "1     132ta6q  I have integrated the ability for villagers on...    723   \n",
       "2     132l861  I would have done much better in Highschool if...   2101   \n",
       "3     132o7xp  The Book of Genesis in the style of Donald Trump…   1105   \n",
       "4     132vg43  This is surreal: ElevenLabs AI can now clone t...    344   \n",
       "...       ...                                                ...    ...   \n",
       "3496   zqtbk4    [Credit: Voyager] Element Mixing (alchemy) game      2   \n",
       "3497   zqsdmw                           r/ChatGPT_Prompts Lounge      2   \n",
       "3498   zqwa86                     [Credit: Voyager] Hacking game      1   \n",
       "3499   zqw96w  [Credit: Voyager] Example of giving very speci...      1   \n",
       "3500   zqtga3             [Credit: Voyager] SciFi adventure game      1   \n",
       "\n",
       "      Up vote Ratio  Total Comments  \\\n",
       "0              0.88             461   \n",
       "1              0.96              58   \n",
       "2              0.92             251   \n",
       "3              0.92              97   \n",
       "4              0.98              49   \n",
       "...             ...             ...   \n",
       "3496           1.00               0   \n",
       "3497           1.00               1   \n",
       "3498           1.00               0   \n",
       "3499           1.00               0   \n",
       "3500           1.00               0   \n",
       "\n",
       "                                               Post URL                 Date  \n",
       "0     https://www.reddit.com/r/ChatGPT/comments/132t...  2023-04-29 09:33:07  \n",
       "1                       https://v.redd.it/ipsljk4outwa1  2023-04-29 09:43:58  \n",
       "2     https://www.reddit.com/r/ChatGPT/comments/132l...  2023-04-29 02:26:50  \n",
       "3                       https://v.redd.it/clgnso6mjswa1  2023-04-29 05:20:30  \n",
       "4                       https://v.redd.it/nbxlmfqy4uwa1  2023-04-29 10:40:14  \n",
       "...                                                 ...                  ...  \n",
       "3496  https://www.reddit.com/r/ChatGPT_Prompts/comme...  2022-12-20 11:52:15  \n",
       "3497  https://www.reddit.com/r/ChatGPT_Prompts/comme...  2022-12-20 11:13:03  \n",
       "3498  https://www.reddit.com/r/ChatGPT_Prompts/comme...  2022-12-20 13:50:40  \n",
       "3499  https://www.reddit.com/r/ChatGPT_Prompts/comme...  2022-12-20 13:49:34  \n",
       "3500  https://www.reddit.com/r/ChatGPT_Prompts/comme...  2022-12-20 11:57:45  \n",
       "\n",
       "[3501 rows x 7 columns]"
      ]
     },
     "execution_count": 42,
     "metadata": {},
     "output_type": "execute_result"
    }
   ],
   "source": [
    "#converting the collected posts dictionary into DataFrame\n",
    "top_posts = pd.DataFrame(post_dict)\n",
    "top_posts"
   ]
  },
  {
   "cell_type": "code",
   "execution_count": 44,
   "id": "c15bdf3a",
   "metadata": {},
   "outputs": [],
   "source": [
    "#saving the DataFrame as CSV file\n",
    "top_posts.to_csv('data_set_fp.csv', encoding='utf-8')"
   ]
  },
  {
   "cell_type": "markdown",
   "id": "9e9a1daa",
   "metadata": {},
   "source": [
    "# Topic Modelling"
   ]
  },
  {
   "cell_type": "code",
   "execution_count": 45,
   "id": "0bcd290d",
   "metadata": {
    "scrolled": true
   },
   "outputs": [],
   "source": [
    "#pip install nltk"
   ]
  },
  {
   "cell_type": "code",
   "execution_count": 46,
   "id": "b50b4f95",
   "metadata": {},
   "outputs": [],
   "source": [
    "#Importing necessary libraries for topic modelling\n",
    "import nltk\n",
    "from nltk.corpus import stopwords\n",
    "#nltk.download('stopwords')\n",
    "from nltk.tokenize import word_tokenize\n",
    "from sklearn.feature_extraction.text import TfidfVectorizer\n",
    "from sklearn.decomposition import LatentDirichletAllocation"
   ]
  },
  {
   "cell_type": "code",
   "execution_count": 47,
   "id": "6192c2a1",
   "metadata": {},
   "outputs": [],
   "source": [
    "#importing csv data that is collected\n",
    "raw_data = pd.read_csv('data_set_fp.csv')"
   ]
  },
  {
   "cell_type": "code",
   "execution_count": 48,
   "id": "a3a0e927",
   "metadata": {},
   "outputs": [],
   "source": [
    "#collecting the title of submissions\n",
    "title_docs = raw_data['Title']"
   ]
  },
  {
   "cell_type": "code",
   "execution_count": 49,
   "id": "91edc160",
   "metadata": {},
   "outputs": [],
   "source": [
    "#neglecting some stopwords\n",
    "stop_words = set(stopwords.words('english'))\n",
    "\n",
    "def clean_text(text):\n",
    "    tokens = word_tokenize(text.lower())\n",
    "    clean_tokens = [token for token in tokens if token.isalpha() and token not in stop_words]\n",
    "    return ' '.join(clean_tokens)\n",
    "\n",
    "title_docs = title_docs.apply(clean_text)"
   ]
  },
  {
   "cell_type": "code",
   "execution_count": 50,
   "id": "b6436931",
   "metadata": {},
   "outputs": [],
   "source": [
    "vectorizer = TfidfVectorizer(max_features=1000)\n",
    "tfidf = vectorizer.fit_transform(title_docs)"
   ]
  },
  {
   "cell_type": "code",
   "execution_count": 51,
   "id": "3e8fab53",
   "metadata": {},
   "outputs": [
    {
     "data": {
      "text/plain": [
       "LatentDirichletAllocation(learning_method='online', n_components=4, n_jobs=-1,\n",
       "                          random_state=100)"
      ]
     },
     "execution_count": 51,
     "metadata": {},
     "output_type": "execute_result"
    }
   ],
   "source": [
    "#creatting Latent Dirichlet Allocation rule for topic modelling\n",
    "lda_2 = LatentDirichletAllocation(n_components=4,        \n",
    "                                  max_iter=10,               \n",
    "                                  learning_method='online',   \n",
    "                                  random_state=100,          \n",
    "                                  batch_size=128,            \n",
    "                                  evaluate_every = -1,       \n",
    "                                  n_jobs = -1 )\n",
    "lda_2.fit(tfidf)"
   ]
  },
  {
   "cell_type": "code",
   "execution_count": 52,
   "id": "872bd502",
   "metadata": {
    "scrolled": true
   },
   "outputs": [
    {
     "name": "stdout",
     "output_type": "stream",
     "text": [
      "LatentDirichletAllocation(learning_method='online', n_components=4, n_jobs=-1,\n",
      "                          random_state=100)\n"
     ]
    }
   ],
   "source": [
    "print(lda_2)"
   ]
  },
  {
   "cell_type": "code",
   "execution_count": 73,
   "id": "edf700ca",
   "metadata": {},
   "outputs": [
    {
     "name": "stdout",
     "output_type": "stream",
     "text": [
      "Topic           Top Words\n",
      "==================================================\n",
      "Topic :-- 0     app, using, made, web, give, get, people, generate, extension, based, nsfw, context, power, take, things, plugin, play, chrome, full, asking, know, access, games, search, want, see, go, browsing, voice, introducing\n",
      "Topic :-- 1     api, prompts, code, using, got, coding, google, text, use, free, best, data, anyone, made, assistant, bard, vs, python, ca, time, way, written, love, simple, one, access, else, italy, say, back\n",
      "Topic :-- 2     prompt, bing, game, new, write, would, first, content, created, future, generated, jailbreak, model, language, asked, engineering, looking, work, human, much, chatbot, good, joke, ask, questions, build, song, tips, feedback, open\n",
      "Topic :-- 3     help, make, credit, story, dan, create, bot, asked, tool, voyager, prompt, plus, need, better, right, generator, write, rap, real, think, broke, well, adventure, style, live, answer, trump, something, poem, used\n"
     ]
    }
   ],
   "source": [
    "def print_top_words(model, feature_names, n_top_words):\n",
    "    table = []\n",
    "    for topic_idx, topic in enumerate(model.components_):\n",
    "        top_words = [feature_names[i] for i in topic.argsort()[:-n_top_words - 1:-1]]\n",
    "        table.append([f\"Topic :-- {topic_idx}\", \", \".join(top_words)])\n",
    "    \n",
    "    # Print the table\n",
    "    header = [\"Topic\", \"Top Words\"]\n",
    "    print(\"{:<15} {}\".format(header[0], header[1]))\n",
    "    print(\"=\" * 50)\n",
    "    for row in table:\n",
    "        print(\"{:<15} {}\".format(row[0], row[1]))\n",
    "        \n",
    "print_top_words(lda_2, vectorizer.get_feature_names(), 30)"
   ]
  },
  {
   "cell_type": "markdown",
   "id": "5c7b52e1",
   "metadata": {},
   "source": [
    "# Sentiment Analysis using TextBlob"
   ]
  },
  {
   "cell_type": "code",
   "execution_count": 84,
   "id": "9d737767",
   "metadata": {},
   "outputs": [],
   "source": [
    "pip install textblob"
   ]
  },
  {
   "cell_type": "code",
   "execution_count": 3,
   "id": "0e62a246",
   "metadata": {},
   "outputs": [],
   "source": [
    "from textblob import TextBlob\n"
   ]
  },
  {
   "cell_type": "code",
   "execution_count": 2,
   "id": "adff2fae",
   "metadata": {},
   "outputs": [],
   "source": [
    "df = pd.read_csv('data_set_fp.csv')\n"
   ]
  },
  {
   "cell_type": "code",
   "execution_count": 5,
   "id": "b8f44951",
   "metadata": {},
   "outputs": [
    {
     "data": {
      "text/html": [
       "<div>\n",
       "<style scoped>\n",
       "    .dataframe tbody tr th:only-of-type {\n",
       "        vertical-align: middle;\n",
       "    }\n",
       "\n",
       "    .dataframe tbody tr th {\n",
       "        vertical-align: top;\n",
       "    }\n",
       "\n",
       "    .dataframe thead th {\n",
       "        text-align: right;\n",
       "    }\n",
       "</style>\n",
       "<table border=\"1\" class=\"dataframe\">\n",
       "  <thead>\n",
       "    <tr style=\"text-align: right;\">\n",
       "      <th></th>\n",
       "      <th>Title</th>\n",
       "      <th>Up vote Ratio</th>\n",
       "      <th>Total Comments</th>\n",
       "      <th>Date</th>\n",
       "    </tr>\n",
       "  </thead>\n",
       "  <tbody>\n",
       "    <tr>\n",
       "      <th>3497</th>\n",
       "      <td>r/ChatGPT_Prompts Lounge</td>\n",
       "      <td>1.0</td>\n",
       "      <td>1</td>\n",
       "      <td>2022-12-20 11:13:03</td>\n",
       "    </tr>\n",
       "    <tr>\n",
       "      <th>3498</th>\n",
       "      <td>[Credit: Voyager] Hacking game</td>\n",
       "      <td>1.0</td>\n",
       "      <td>0</td>\n",
       "      <td>2022-12-20 13:50:40</td>\n",
       "    </tr>\n",
       "    <tr>\n",
       "      <th>3499</th>\n",
       "      <td>[Credit: Voyager] Example of giving very speci...</td>\n",
       "      <td>1.0</td>\n",
       "      <td>0</td>\n",
       "      <td>2022-12-20 13:49:34</td>\n",
       "    </tr>\n",
       "    <tr>\n",
       "      <th>3500</th>\n",
       "      <td>[Credit: Voyager] SciFi adventure game</td>\n",
       "      <td>1.0</td>\n",
       "      <td>0</td>\n",
       "      <td>2022-12-20 11:57:45</td>\n",
       "    </tr>\n",
       "  </tbody>\n",
       "</table>\n",
       "</div>"
      ],
      "text/plain": [
       "                                                  Title  Up vote Ratio  \\\n",
       "3497                           r/ChatGPT_Prompts Lounge            1.0   \n",
       "3498                     [Credit: Voyager] Hacking game            1.0   \n",
       "3499  [Credit: Voyager] Example of giving very speci...            1.0   \n",
       "3500             [Credit: Voyager] SciFi adventure game            1.0   \n",
       "\n",
       "      Total Comments                 Date  \n",
       "3497               1  2022-12-20 11:13:03  \n",
       "3498               0  2022-12-20 13:50:40  \n",
       "3499               0  2022-12-20 13:49:34  \n",
       "3500               0  2022-12-20 11:57:45  "
      ]
     },
     "execution_count": 5,
     "metadata": {},
     "output_type": "execute_result"
    }
   ],
   "source": [
    "#dropping unnecessary columns\n",
    "df = df.drop(['Unnamed: 0','ID','Score','Post URL'],axis = 1)\n",
    "df.tail(4)"
   ]
  },
  {
   "cell_type": "code",
   "execution_count": 6,
   "id": "6e32bf44",
   "metadata": {},
   "outputs": [],
   "source": [
    "# sentiment analysis using textblob\n",
    "def get_sentiment(text):\n",
    "    blob = TextBlob(text)\n",
    "    sentiment_score = blob.sentiment.polarity\n",
    "    return sentiment_score"
   ]
  },
  {
   "cell_type": "code",
   "execution_count": 7,
   "id": "6ee05383",
   "metadata": {},
   "outputs": [],
   "source": [
    "#creating the sentiment scores for each data point\n",
    "df['Sentiment Score'] = df['Title'].apply(get_sentiment)"
   ]
  },
  {
   "cell_type": "code",
   "execution_count": 8,
   "id": "cd1d97ea",
   "metadata": {},
   "outputs": [],
   "source": [
    "#categorizing using sentiment score\n",
    "df['Sentiment'] = df['Sentiment Score'].apply(lambda x: 'Positive' if x > 0 else 'Negative' if x < 0 else 'Neutral')\n"
   ]
  },
  {
   "cell_type": "code",
   "execution_count": 9,
   "id": "362af24f",
   "metadata": {},
   "outputs": [],
   "source": [
    "#For aggregating porpose\n",
    "l_sentiment = []\n",
    "\n",
    "l_postive = 0\n",
    "l_neutral = 0\n",
    "l_negative = 0\n",
    "\n",
    "for i in range(0,3501):\n",
    "    if df.loc[i,'Sentiment'] == 'Positive':\n",
    "        l_postive = l_postive + 1\n",
    "    elif df.loc[i,'Sentiment'] == 'Negative':\n",
    "        l_negative = l_negative + 1\n",
    "    else:\n",
    "        l_neutral = l_neutral + 1\n",
    "        \n",
    "l_lables = ['Positive','Negative','Neutral']  "
   ]
  },
  {
   "cell_type": "code",
   "execution_count": 10,
   "id": "f58f6b63",
   "metadata": {},
   "outputs": [
    {
     "name": "stdout",
     "output_type": "stream",
     "text": [
      "[988, 445, 2068]\n"
     ]
    }
   ],
   "source": [
    "l_sentiment.append(l_postive)\n",
    "l_sentiment.append(l_negative)\n",
    "l_sentiment.append(l_neutral)\n",
    "\n",
    "print(l_sentiment)"
   ]
  },
  {
   "cell_type": "code",
   "execution_count": 11,
   "id": "e2e96181",
   "metadata": {},
   "outputs": [
    {
     "data": {
      "text/html": [
       "<div>\n",
       "<style scoped>\n",
       "    .dataframe tbody tr th:only-of-type {\n",
       "        vertical-align: middle;\n",
       "    }\n",
       "\n",
       "    .dataframe tbody tr th {\n",
       "        vertical-align: top;\n",
       "    }\n",
       "\n",
       "    .dataframe thead th {\n",
       "        text-align: right;\n",
       "    }\n",
       "</style>\n",
       "<table border=\"1\" class=\"dataframe\">\n",
       "  <thead>\n",
       "    <tr style=\"text-align: right;\">\n",
       "      <th></th>\n",
       "      <th>Title</th>\n",
       "      <th>Up vote Ratio</th>\n",
       "      <th>Total Comments</th>\n",
       "      <th>Date</th>\n",
       "      <th>Sentiment Score</th>\n",
       "      <th>Sentiment</th>\n",
       "    </tr>\n",
       "  </thead>\n",
       "  <tbody>\n",
       "    <tr>\n",
       "      <th>0</th>\n",
       "      <td>Do you believe ChatGPT is todays equivalent of...</td>\n",
       "      <td>0.88</td>\n",
       "      <td>461</td>\n",
       "      <td>2023-04-29 09:33:07</td>\n",
       "      <td>0.4375</td>\n",
       "      <td>Positive</td>\n",
       "    </tr>\n",
       "    <tr>\n",
       "      <th>1</th>\n",
       "      <td>I have integrated the ability for villagers on...</td>\n",
       "      <td>0.96</td>\n",
       "      <td>58</td>\n",
       "      <td>2023-04-29 09:43:58</td>\n",
       "      <td>0.0000</td>\n",
       "      <td>Neutral</td>\n",
       "    </tr>\n",
       "    <tr>\n",
       "      <th>2</th>\n",
       "      <td>I would have done much better in Highschool if...</td>\n",
       "      <td>0.92</td>\n",
       "      <td>251</td>\n",
       "      <td>2023-04-29 02:26:50</td>\n",
       "      <td>0.3500</td>\n",
       "      <td>Positive</td>\n",
       "    </tr>\n",
       "    <tr>\n",
       "      <th>3</th>\n",
       "      <td>The Book of Genesis in the style of Donald Trump…</td>\n",
       "      <td>0.92</td>\n",
       "      <td>97</td>\n",
       "      <td>2023-04-29 05:20:30</td>\n",
       "      <td>0.0000</td>\n",
       "      <td>Neutral</td>\n",
       "    </tr>\n",
       "    <tr>\n",
       "      <th>4</th>\n",
       "      <td>This is surreal: ElevenLabs AI can now clone t...</td>\n",
       "      <td>0.98</td>\n",
       "      <td>49</td>\n",
       "      <td>2023-04-29 10:40:14</td>\n",
       "      <td>0.0625</td>\n",
       "      <td>Positive</td>\n",
       "    </tr>\n",
       "  </tbody>\n",
       "</table>\n",
       "</div>"
      ],
      "text/plain": [
       "                                               Title  Up vote Ratio  \\\n",
       "0  Do you believe ChatGPT is todays equivalent of...           0.88   \n",
       "1  I have integrated the ability for villagers on...           0.96   \n",
       "2  I would have done much better in Highschool if...           0.92   \n",
       "3  The Book of Genesis in the style of Donald Trump…           0.92   \n",
       "4  This is surreal: ElevenLabs AI can now clone t...           0.98   \n",
       "\n",
       "   Total Comments                 Date  Sentiment Score Sentiment  \n",
       "0             461  2023-04-29 09:33:07           0.4375  Positive  \n",
       "1              58  2023-04-29 09:43:58           0.0000   Neutral  \n",
       "2             251  2023-04-29 02:26:50           0.3500  Positive  \n",
       "3              97  2023-04-29 05:20:30           0.0000   Neutral  \n",
       "4              49  2023-04-29 10:40:14           0.0625  Positive  "
      ]
     },
     "execution_count": 11,
     "metadata": {},
     "output_type": "execute_result"
    }
   ],
   "source": [
    "df.head(5)"
   ]
  },
  {
   "cell_type": "code",
   "execution_count": 12,
   "id": "aae15c26",
   "metadata": {},
   "outputs": [],
   "source": [
    "#saving the DataFrame as CSV file\n",
    "df.to_csv('sentiment_analysis_textblob.csv', encoding='utf-8')"
   ]
  },
  {
   "cell_type": "code",
   "execution_count": 13,
   "id": "e7c57956",
   "metadata": {},
   "outputs": [
    {
     "data": {
      "image/png": "[encoded data removed]",
      "text/plain": [
       "<Figure size 432x288 with 1 Axes>"
      ]
     },
     "metadata": {},
     "output_type": "display_data"
    }
   ],
   "source": [
    "#Plotting and representation of Sentiment Analysis: \n",
    "y_axis = np.array(l_sentiment)\n",
    "\n",
    "plt.pie(y_axis , labels = l_lables, autopct='%1.1f%%',startangle = 90)\n",
    "plt.title('Sentiment Analysis on ChatGPT') \n",
    "plt.show() "
   ]
  },
  {
   "cell_type": "code",
   "execution_count": 14,
   "id": "594641bb",
   "metadata": {},
   "outputs": [
    {
     "data": {
      "image/png": "[encoded data removed]",
      "text/plain": [
       "<Figure size 432x288 with 1 Axes>"
      ]
     },
     "metadata": {
      "needs_background": "light"
     },
     "output_type": "display_data"
    }
   ],
   "source": [
    "# Extract the year from the timestamp column\n",
    "df['Year'] = pd.to_datetime(df['Date']).dt.year\n",
    "\n",
    "# Group the data by year and sentiment polarity, and count the number of posts in each group\n",
    "df_grouped = df.groupby(['Year', 'Sentiment']).size().reset_index(name='Count')\n",
    "\n",
    "# Pivot the data to have the sentiment polarity as columns and the year as rows\n",
    "df_pivot = df_grouped.pivot(index='Year', columns=['Sentiment'], values='Count')\n",
    "\n",
    "# Plot the bar chart\n",
    "df_pivot.plot(kind='bar', stacked=True)\n",
    "plt.title('Sentiment polarity distribution per year')\n",
    "plt.xlabel('Year')\n",
    "plt.ylabel('Count')\n",
    "plt.show()"
   ]
  }
 ],
 "metadata": {
  "kernelspec": {
   "display_name": "Python 3 (ipykernel)",
   "language": "python",
   "name": "python3"
  },
  "language_info": {
   "codemirror_mode": {
    "name": "ipython",
    "version": 3
   },
   "file_extension": ".py",
   "mimetype": "text/x-python",
   "name": "python",
   "nbconvert_exporter": "python",
   "pygments_lexer": "ipython3",
   "version": "3.9.12"
  },
  "toc": {
   "base_numbering": 1,
   "nav_menu": {},
   "number_sections": true,
   "sideBar": true,
   "skip_h1_title": false,
   "title_cell": "Table of Contents",
   "title_sidebar": "Contents",
   "toc_cell": false,
   "toc_position": {},
   "toc_section_display": true,
   "toc_window_display": false
  }
 },
 "nbformat": 4,
 "nbformat_minor": 5
}
